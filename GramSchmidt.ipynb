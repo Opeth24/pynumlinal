{
 "cells": [
  {
   "cell_type": "code",
   "execution_count": 1,
   "metadata": {},
   "outputs": [],
   "source": [
    "import numpy as np\n",
    "import matplotlib.pyplot as plt\n",
    "%matplotlib inline\n",
    "plt.rcParams[\"figure.figsize\"] = (12,8) # default (6,4)"
   ]
  },
  {
   "cell_type": "markdown",
   "metadata": {},
   "source": [
    "### Метода Грама--Шмидта и QR-разложение\n",
    "Пусть $a_j$ --- $j$-й столбец матрицы $A\\in \\mathbb R^{m\\times n}$.\n",
    "Метод ортогонализации Грама--Шмидта позволяет найте [QR-разложение](https://en.wikipedia.org/wiki/QR_decomposition) матрицы $A$, то есть представить её в виде $A = QR$, где $Q\\in \\mathbb R^{m\\times m}$ --- ортогональная, а $R\\in \\mathbb R^{m\\times n}$ --- верхняя треугольная.\n",
    "\n",
    "Если матрица $A$ квадратная и обратимая, то матрицы $Q$ и $R$ определены однозначно, если потребовать положительность диагональных элементов $R$.\n",
    "\n",
    "Классический метод Грама--Шмидта представляет собой следующий алгоритм:"
   ]
  },
  {
   "cell_type": "markdown",
   "metadata": {},
   "source": [
    "<img src=\"classic.png\">"
   ]
  },
  {
   "cell_type": "code",
   "execution_count": 2,
   "metadata": {
    "collapsed": true
   },
   "outputs": [],
   "source": [
    "def cgs(A):\n",
    "    Q = np.zeros_like(A)\n",
    "    R = np.eye(A.shape[1])\n",
    "    for j in range(0, A.shape[1]):\n",
    "        V = A[:,j]\n",
    "        for i in range(0, j):\n",
    "            R[i,j] = Q[:,i] @ A[:,j]\n",
    "            V = V - R[i,j] * Q[:,i]\n",
    "        R[j,j] = np.linalg.norm(V, 2)\n",
    "        Q[:,j] = V / R[j,j]\n",
    "    return Q, R"
   ]
  },
  {
   "cell_type": "markdown",
   "metadata": {},
   "source": [
    "Проверим, что функция `cgs` работает корректно:"
   ]
  },
  {
   "cell_type": "code",
   "execution_count": 3,
   "metadata": {},
   "outputs": [
    {
     "data": {
      "text/plain": [
       "array([[ 0.2772056 , -0.0946212 ,  0.52281854, -0.52186329],\n",
       "       [ 0.78565793,  0.31738485,  0.56231014, -0.67102642],\n",
       "       [ 0.48866882,  1.6298874 , -0.74609007, -1.89628671],\n",
       "       [-0.97674957, -1.01986997, -0.2625482 , -0.58671515]])"
      ]
     },
     "execution_count": 3,
     "metadata": {},
     "output_type": "execute_result"
    }
   ],
   "source": [
    "A = np.random.randn(4,4)\n",
    "A"
   ]
  },
  {
   "cell_type": "code",
   "execution_count": 4,
   "metadata": {},
   "outputs": [
    {
     "data": {
      "text/plain": [
       "array([[ 1.37365872,  1.46743808,  0.34838677, -0.74650499],\n",
       "       [ 0.        ,  1.2856825 , -1.03487043, -1.2137562 ],\n",
       "       [ 0.        ,  0.        ,  0.15094275, -0.51232021],\n",
       "       [ 0.        ,  0.        ,  0.        ,  1.53941869]])"
      ]
     },
     "execution_count": 4,
     "metadata": {},
     "output_type": "execute_result"
    }
   ],
   "source": [
    "Q,R = cgs(A)\n",
    "R"
   ]
  },
  {
   "cell_type": "code",
   "execution_count": 5,
   "metadata": {},
   "outputs": [
    {
     "data": {
      "text/plain": [
       "array([[1, 0, 0, 0],\n",
       "       [0, 1, 0, 0],\n",
       "       [0, 0, 1, 0],\n",
       "       [0, 0, 0, 1]])"
      ]
     },
     "execution_count": 5,
     "metadata": {},
     "output_type": "execute_result"
    }
   ],
   "source": [
    "np.around(Q@Q.T, 1).astype(np.int)"
   ]
  },
  {
   "cell_type": "code",
   "execution_count": 6,
   "metadata": {},
   "outputs": [
    {
     "data": {
      "text/plain": [
       "array([[0, 0, 0, 0],\n",
       "       [0, 0, 0, 0],\n",
       "       [0, 0, 0, 0],\n",
       "       [0, 0, 0, 0]])"
      ]
     },
     "execution_count": 6,
     "metadata": {},
     "output_type": "execute_result"
    }
   ],
   "source": [
    "np.around(Q@R - A, 1).astype(np.int)"
   ]
  },
  {
   "cell_type": "code",
   "execution_count": 7,
   "metadata": {},
   "outputs": [
    {
     "data": {
      "text/plain": [
       "2.2204460492503131e-16"
      ]
     },
     "execution_count": 7,
     "metadata": {},
     "output_type": "execute_result"
    }
   ],
   "source": [
    "np.max(np.abs(Q@R - A))"
   ]
  },
  {
   "cell_type": "code",
   "execution_count": 8,
   "metadata": {},
   "outputs": [
    {
     "data": {
      "text/plain": [
       "1.4849232954361469e-15"
      ]
     },
     "execution_count": 8,
     "metadata": {},
     "output_type": "execute_result"
    }
   ],
   "source": [
    "np.max(np.abs(Q.T @ Q - np.eye(Q.shape[1])))"
   ]
  },
  {
   "cell_type": "markdown",
   "metadata": {},
   "source": [
    "### Погрешность аппроксимации матрицы R\n",
    "Естественно ожидать, что при использовании метода Грама--Шмидта матрица $R$ (если она определена однозначно) будет найдена с относительной точностью порядка $\\varepsilon$ (машинное эпсилон). Оказывается, что в общем случае это не так.\n",
    "\n",
    "Рассмотрим специальную матрицу вида\n",
    "$$\n",
    "A = U S V\n",
    "$$\n",
    "где $U,V \\in \\mathbb R^{n\\times n}$ --- ортогональные матрицы, а\n",
    "$$\n",
    "S = \\text{diag}(2^{-1}, 2^{-2}, \\dots, 2^{-n})\n",
    "$$\n",
    "Можно показать, что в QR-разложении такой матрицы диагональные элементы матрицы $R$ будут близки к диагональным элементам матрицы $S$.\n",
    "(Подробнее см. в [Trefethen L.N., Bau D., *Numerical linear algebra*](https://lib.mipt.ru/book/300252/))"
   ]
  },
  {
   "cell_type": "code",
   "execution_count": 9,
   "metadata": {
    "collapsed": true
   },
   "outputs": [],
   "source": [
    "n = 80\n",
    "U, X = np.linalg.qr(np.random.randn(n,n))\n",
    "V, X = np.linalg.qr(np.random.randn(n,n))\n",
    "S = np.diag(np.power(2., range(-1,-n-1,-1)))\n",
    "A = U @ S @ V"
   ]
  },
  {
   "cell_type": "code",
   "execution_count": 10,
   "metadata": {},
   "outputs": [
    {
     "data": {
      "image/png": "[encoded data removed]",
      "text/plain": [
       "<matplotlib.figure.Figure at 0x104ca0f28>"
      ]
     },
     "metadata": {},
     "output_type": "display_data"
    }
   ],
   "source": [
    "plt.plot(np.log10(np.power(2., range(-1,-n-1,-1))))\n",
    "Q, R = cgs(A)\n",
    "plt.plot(np.log10(np.diag(R)));"
   ]
  },
  {
   "cell_type": "markdown",
   "metadata": {},
   "source": [
    "Из графика видно, уже при $n\\approx 30$ элементы $r_{ii}$ заметно отклоняются от ожидаемых значений $2^{-i-1}$.\n",
    "Это обусловлено неустойчивостью метода Грама--Шмидта.\n",
    " \n",
    "### Задача\n",
    "Реализуйте *модифицированный метод Грама--Шмидта*, описанный ниже, и постройте с помощью него график, аналогичный приведённому выше."
   ]
  },
  {
   "cell_type": "markdown",
   "metadata": {
    "collapsed": true
   },
   "source": [
    "<img src=\"modified.png\">"
   ]
  },
  {
   "cell_type": "markdown",
   "metadata": {},
   "source": [
    "### Потеря ортогональности\n",
    "Рассмотрим матрицу $A$ со столбцами $(1,\\delta,0,0)$, $(1,0,\\delta,0)$, $(1,0,0,\\delta)$ и $(0,0,0,1)$.\n",
    "Пусть $\\delta$ настолько мало, что в машинной арифметике $1+\\delta^2 = 1$."
   ]
  },
  {
   "cell_type": "code",
   "execution_count": 11,
   "metadata": {},
   "outputs": [
    {
     "data": {
      "text/plain": [
       "array([[  1.00e+00,   1.00e+00,   1.00e+00,   0.00e+00],\n",
       "       [  7.45e-09,   0.00e+00,   0.00e+00,   0.00e+00],\n",
       "       [  0.00e+00,   7.45e-09,   0.00e+00,   0.00e+00],\n",
       "       [  0.00e+00,   0.00e+00,   7.45e-09,   1.00e+00]])"
      ]
     },
     "execution_count": 11,
     "metadata": {},
     "output_type": "execute_result"
    }
   ],
   "source": [
    "delta = 2**(-52/2)/2\n",
    "delta*delta + 1 == 1\n",
    "A = np.array([[1,delta,0,0],[1,0,delta,0],[1,0,0,delta],[0,0,0,1]]).T\n",
    "np.set_printoptions(precision=2)\n",
    "A"
   ]
  },
  {
   "cell_type": "code",
   "execution_count": 12,
   "metadata": {
    "collapsed": true
   },
   "outputs": [],
   "source": [
    "Q, R = cgs(A)\n",
    "E = np.eye(Q.shape[1])"
   ]
  },
  {
   "cell_type": "markdown",
   "metadata": {},
   "source": [
    "Казалось бы, что матрица $Q$ должна быть ортогональной (с точностью до машинного эпсилон), \n",
    "то есть элементы $Q^T Q - E$ должны иметь порядок $\\varepsilon \\approx 10^{-16}$.\n",
    "Оказывается, что это далеко не так:"
   ]
  },
  {
   "cell_type": "code",
   "execution_count": 13,
   "metadata": {},
   "outputs": [
    {
     "data": {
      "text/plain": [
       "0.49999999999999989"
      ]
     },
     "execution_count": 13,
     "metadata": {},
     "output_type": "execute_result"
    }
   ],
   "source": [
    "np.max(np.abs(Q.T @ Q - E))"
   ]
  },
  {
   "cell_type": "markdown",
   "metadata": {},
   "source": [
    "**Упражнение.** Примените модифицированный метод Грама--Шмидта вместо классического.\n",
    "\n",
    "**Упражнение.** Найдите перыве 3 столбца $Q$ на бумаге \"вручную\" (для обоих методов).\n",
    "\n",
    "Отличие модифицированного метода от классического состоит в следующем:\n",
    "<img src=\"classical_vs_modified_GS.png\">"
   ]
  }
 ],
 "metadata": {
  "kernelspec": {
   "display_name": "Python 3",
   "language": "python",
   "name": "python3"
  },
  "language_info": {
   "codemirror_mode": {
    "name": "ipython",
    "version": 3
   },
   "file_extension": ".py",
   "mimetype": "text/x-python",
   "name": "python",
   "nbconvert_exporter": "python",
   "pygments_lexer": "ipython3",
   "version": "3.6.2"
  }
 },
 "nbformat": 4,
 "nbformat_minor": 2
}
